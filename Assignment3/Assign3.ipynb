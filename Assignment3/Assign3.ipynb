{
  "nbformat": 4,
  "nbformat_minor": 0,
  "metadata": {
    "colab": {
      "name": "Assign3.ipynb",
      "version": "0.3.2",
      "provenance": [],
      "collapsed_sections": []
    },
    "kernelspec": {
      "name": "python3",
      "display_name": "Python 3"
    },
    "accelerator": "GPU"
  },
  "cells": [
    {
      "metadata": {
        "id": "dhLrae59iX_f",
        "colab_type": "code",
        "outputId": "2d2b4ee7-9948-4fca-b3c9-1d018a866fb5",
        "colab": {
          "base_uri": "https://localhost:8080/",
          "height": 125
        }
      },
      "cell_type": "code",
      "source": [
        "from google.colab import drive\n",
        "drive.mount('/content/drive/')"
      ],
      "execution_count": 0,
      "outputs": [
        {
          "output_type": "stream",
          "text": [
            "Go to this URL in a browser: https://accounts.google.com/o/oauth2/auth?client_id=947318989803-6bn6qk8qdgf4n4g3pfee6491hc0brc4i.apps.googleusercontent.com&redirect_uri=urn%3Aietf%3Awg%3Aoauth%3A2.0%3Aoob&scope=email%20https%3A%2F%2Fwww.googleapis.com%2Fauth%2Fdocs.test%20https%3A%2F%2Fwww.googleapis.com%2Fauth%2Fdrive%20https%3A%2F%2Fwww.googleapis.com%2Fauth%2Fdrive.photos.readonly%20https%3A%2F%2Fwww.googleapis.com%2Fauth%2Fpeopleapi.readonly&response_type=code\n",
            "\n",
            "Enter your authorization code:\n",
            "··········\n",
            "Mounted at /content/drive/\n"
          ],
          "name": "stdout"
        }
      ]
    },
    {
      "metadata": {
        "id": "Ckc5SaWycsp2",
        "colab_type": "code",
        "outputId": "2405a8f2-6345-4831-e498-9ceacb7c9381",
        "colab": {
          "base_uri": "https://localhost:8080/",
          "height": 158
        }
      },
      "cell_type": "code",
      "source": [
        "!pip3 install torchfile\n",
        "\n"
      ],
      "execution_count": 0,
      "outputs": [
        {
          "output_type": "stream",
          "text": [
            "Collecting torchfile\n",
            "  Downloading https://files.pythonhosted.org/packages/91/af/5b305f86f2d218091af657ddb53f984ecbd9518ca9fe8ef4103a007252c9/torchfile-0.1.0.tar.gz\n",
            "Building wheels for collected packages: torchfile\n",
            "  Building wheel for torchfile (setup.py) ... \u001b[?25ldone\n",
            "\u001b[?25h  Stored in directory: /root/.cache/pip/wheels/b1/c3/d6/9a1cc8f3a99a0fc1124cae20153f36af59a6e683daca0a0814\n",
            "Successfully built torchfile\n",
            "Installing collected packages: torchfile\n",
            "Successfully installed torchfile-0.1.0\n"
          ],
          "name": "stdout"
        }
      ]
    },
    {
      "metadata": {
        "id": "HegQxdpFiUbw",
        "colab_type": "code",
        "colab": {}
      },
      "cell_type": "code",
      "source": [
        "import tensorflow as tf\n",
        "tf.test.gpu_device_name()\n",
        "import numpy as np\n",
        "import torch\n",
        "import time"
      ],
      "execution_count": 0,
      "outputs": []
    },
    {
      "metadata": {
        "id": "PzUdDI9JOOJ8",
        "colab_type": "code",
        "outputId": "c2e9f56e-ba59-40a7-a197-0cdfbb132b02",
        "colab": {
          "base_uri": "https://localhost:8080/",
          "height": 193
        }
      },
      "cell_type": "code",
      "source": [
        "import os\n",
        "os.chdir(\"/content/drive/My Drive/Colab Notebooks/Assignment3\")\n",
        "!ls"
      ],
      "execution_count": 0,
      "outputs": [
        {
          "output_type": "stream",
          "text": [
            "bestModal.txt\t\t    Model54\t\t src\n",
            "checkCriterion.py\t    Model56\t\t TestData\n",
            "checkModel.py\t\t    ModelBais.bin\t testModel.py\n",
            "checkSimilarity.py\t    ModelNoAnneling\t testPrediction1.txt\n",
            "CS_763_Assignment_3.pdf     ModelNoAnnelingFull  testPrediction2.txt\n",
            "CS763DeepLearningHW.tar.gz  ModelRandom\t\t testPrediction.bin\n",
            "Dropout.py\t\t    ModeltestAnn\t testPrediction.txt\n",
            "Linear.py\t\t    out.bin\t\t TrainData\n",
            "ModalWeights.bin\t    __pycache__\t\t trainModel.py\n",
            "Model1\t\t\t    ReLU.py\n"
          ],
          "name": "stdout"
        }
      ]
    },
    {
      "metadata": {
        "id": "sYti8U8UpVco",
        "colab_type": "code",
        "colab": {}
      },
      "cell_type": "code",
      "source": [
        "import numpy as np\n",
        "import torch\n",
        "import torchfile\n",
        "import random\n",
        "\n",
        "dtype = torch.double\n",
        "device = torch.device(\"cuda:0\" if torch.cuda.is_available() else \"cpu\")\n",
        "\n",
        "\n",
        "def loadData():\n",
        "\tTRAINING_DATA = \"TrainData/data.bin\"\n",
        "\tTRAINING_LABELS = \"TrainData/labels.bin\"\n",
        "# \tTESTING_DATA = \"Test/test.bin\"\n",
        "\n",
        "\tData = torch.tensor(torchfile.load(TRAINING_DATA), dtype=dtype, device=device)\n",
        "\tLabels = torch.tensor(torchfile.load(TRAINING_LABELS), dtype=torch.long, device=device)\n",
        "\n",
        "\tData = Data/(256.0)\n",
        "\n",
        "\tSIZE = Data.size()[0]\n",
        "\tHEIGHT = Data.size()[1]\n",
        "\tWIDTH = Data.size()[2]\n",
        "\tTRAINING_SIZE = int(1*SIZE)\n",
        "# \tVALIDATION_SIZE = int(1.0*SIZE)\n",
        "\n",
        "\tData = Data.reshape(SIZE, HEIGHT*WIDTH)\n",
        "\tindices = list(range(SIZE))\n",
        "\trandom.shuffle(indices)\n",
        "  \n",
        "\n",
        "\n",
        "\ttrainingData = Data[indices[0:TRAINING_SIZE]]\n",
        "\ttrainingMean = trainingData.mean(dim=0)\n",
        "\ttrainingLabels = Labels[indices[0:TRAINING_SIZE]]\n",
        "\tvalidationData = Data[indices[TRAINING_SIZE:]]\n",
        "\tvalidationLabels = Labels[indices[TRAINING_SIZE:]]\n",
        "\n",
        "\treturn trainingData, trainingLabels, validationData, validationLabels, trainingMean\n"
      ],
      "execution_count": 0,
      "outputs": []
    },
    {
      "metadata": {
        "id": "rP1JvV06FYJb",
        "colab_type": "code",
        "colab": {}
      },
      "cell_type": "code",
      "source": [
        "trainingData, trainingLabels, validationData, validationLabels,trainingMean = loadData()\n",
        "trainingData = trainingData - trainingMean\n",
        "\n",
        "validationData = validationData - trainingMean"
      ],
      "execution_count": 0,
      "outputs": []
    },
    {
      "metadata": {
        "id": "sv3PP_OEp-3S",
        "colab_type": "code",
        "outputId": "b8f8b3a6-fd9e-4d52-8b26-899dfad0a156",
        "colab": {
          "base_uri": "https://localhost:8080/",
          "height": 4076
        }
      },
      "cell_type": "code",
      "source": [
        "import sys\n",
        "import os\n",
        "sys.path.insert(0, './src')\n",
        "import Linear\n",
        "import time\n",
        "import Model\n",
        "import BatchNorm\n",
        "import LeakyRelu\n",
        "import ReLU\n",
        "import Dropout\n",
        "t = time.time()\n",
        "\n",
        "\n",
        "\n",
        "learningRate = [0.0008, 0.001, 0.02, 0.03]\n",
        "batchSize = 20\n",
        "epochs = 70\n",
        "alpha = [0.01,0.1,0.3]\n",
        "regularizer = [1e-5,1e-4]\n",
        "\n",
        "# for lr in learningRate:\n",
        "#   for reg in regularizer:\n",
        "#     for al in alpha:\n",
        "lr = 0.009\n",
        "reg = 0.000001\n",
        "al = 0.7\n",
        "leak = 0.01\n",
        "dropout_rate = 0.75\n",
        "print(\"learningrate = \",lr,\"Momentum = \", al,\"Regularizer = \",reg)\n",
        "neuralNetwork = Model.Model()\n",
        "neuralNetwork.addLayer(Linear.Linear(108*108,1024))\n",
        "neuralNetwork.addLayer(Dropout.Dropout(dropout_rate))\n",
        "neuralNetwork.addLayer(LeakyRelu.LeakyRelu(leak))\n",
        "neuralNetwork.addLayer(Linear.Linear(1024, 512))\n",
        "neuralNetwork.addLayer(Dropout.Dropout(dropout_rate))\n",
        "neuralNetwork.addLayer(LeakyRelu.LeakyRelu(leak))\n",
        "neuralNetwork.addLayer(Linear.Linear(512, 512))\n",
        "neuralNetwork.addLayer(Dropout.Dropout(dropout_rate))\n",
        "neuralNetwork.addLayer(LeakyRelu.LeakyRelu(leak))\n",
        "neuralNetwork.addLayer(Linear.Linear(512,6))\n",
        "neuralNetwork.trainModel(lr, batchSize, epochs, trainingData, trainingLabels, al,reg)#,validationData,validationLabels)\n",
        "predictions = neuralNetwork.classify(validationData)\n",
        "print(\"Validation Accuracy: \", (torch.sum(predictions == validationLabels).item()*100.0/validationLabels.size()[0]))\n",
        "print(\"time elapsed : \",time.time()-t)"
      ],
      "execution_count": 0,
      "outputs": [
        {
          "output_type": "stream",
          "text": [
            "learningrate =  0.009 Momentum =  0.7 Regularizer =  1e-06\n",
            "Epoch  0\n",
            "Training Loss 1.3939830028665394\n",
            "Training Accuracy:  42.585733882030176\n",
            "Epoch  1\n",
            "Training Loss 1.2748804960080746\n",
            "Training Accuracy:  49.47530864197531\n",
            "Epoch  2\n",
            "Training Loss 1.206544324105143\n",
            "Training Accuracy:  52.88065843621399\n",
            "Epoch  3\n",
            "Training Loss 1.1617731396051694\n",
            "Training Accuracy:  54.801097393689986\n",
            "Epoch  4\n",
            "Training Loss 1.1259581878390847\n",
            "Training Accuracy:  56.539780521262\n",
            "Epoch  5\n",
            "Training Loss 1.1000760930042957\n",
            "Training Accuracy:  57.712620027434845\n",
            "Epoch  6\n",
            "Training Loss 1.0745497581148422\n",
            "Training Accuracy:  58.933470507544584\n",
            "Epoch  7\n",
            "Training Loss 1.053679462144696\n",
            "Training Accuracy:  59.93827160493827\n",
            "Epoch  8\n",
            "Training Loss 1.0346238281704714\n",
            "Training Accuracy:  60.871056241426615\n",
            "Epoch  9\n",
            "Training Loss 1.0165346511188804\n",
            "Training Accuracy:  61.628943758573385\n",
            "Epoch  10\n",
            "Training Loss 0.9995722690727233\n",
            "Training Accuracy:  62.338820301783265\n",
            "Epoch  11\n",
            "Training Loss 0.985414459528269\n",
            "Training Accuracy:  63.01783264746228\n",
            "Epoch  12\n",
            "Training Loss 0.9709045337448883\n",
            "Training Accuracy:  63.67283950617284\n",
            "Epoch  13\n",
            "Training Loss 0.959074821207339\n",
            "Training Accuracy:  64.1803840877915\n",
            "Epoch  14\n",
            "Training Loss 0.9425415758462482\n",
            "Training Accuracy:  64.93827160493827\n",
            "Epoch  15\n",
            "Training Loss 0.9305176251060239\n",
            "Training Accuracy:  65.37037037037037\n",
            "Epoch  16\n",
            "Training Loss 0.9191666323356645\n",
            "Training Accuracy:  65.96364883401921\n",
            "Epoch  17\n",
            "Training Loss 0.9064099658025333\n",
            "Training Accuracy:  66.72153635116598\n",
            "Epoch  18\n",
            "Training Loss 0.8969531196377318\n",
            "Training Accuracy:  66.93758573388203\n",
            "Epoch  19\n",
            "Training Loss 0.8831740507400497\n",
            "Training Accuracy:  67.74691358024691\n",
            "Epoch  20\n",
            "Training Loss 0.8726956086988167\n",
            "Training Accuracy:  68.14128943758574\n",
            "Epoch  21\n",
            "Training Loss 1.0802442069807052\n",
            "Training Accuracy:  58.508230452674894\n",
            "Epoch  22\n",
            "Training Loss 0.9145626827204845\n",
            "Training Accuracy:  65.89163237311385\n",
            "Epoch  23\n",
            "Training Loss 0.8572857253421218\n",
            "Training Accuracy:  68.19615912208505\n",
            "Epoch  24\n",
            "Training Loss 0.8140676256271685\n",
            "Training Accuracy:  70.02400548696845\n",
            "Epoch  25\n",
            "Training Loss 0.7802502315542897\n",
            "Training Accuracy:  71.40260631001372\n",
            "Epoch  26\n",
            "Training Loss 0.7525244303388644\n",
            "Training Accuracy:  72.62002743484226\n",
            "Epoch  27\n",
            "Training Loss 0.7267545745677206\n",
            "Training Accuracy:  73.80315500685872\n",
            "Epoch  28\n",
            "Training Loss 0.7073568156904325\n",
            "Training Accuracy:  74.52674897119341\n",
            "Epoch  29\n",
            "Training Loss 0.6864809353325865\n",
            "Training Accuracy:  75.42866941015089\n",
            "Epoch  30\n",
            "Training Loss 0.6687105508214295\n",
            "Training Accuracy:  76.16941015089164\n",
            "Epoch  31\n",
            "Training Loss 0.6514306749395583\n",
            "Training Accuracy:  76.94101508916324\n",
            "Epoch  32\n",
            "Training Loss 0.6359981934773433\n",
            "Training Accuracy:  77.74348422496571\n",
            "Epoch  33\n",
            "Training Loss 0.6220144289024245\n",
            "Training Accuracy:  78.36076817558299\n",
            "Epoch  34\n",
            "Training Loss 0.6088039537061013\n",
            "Training Accuracy:  78.83401920438958\n",
            "Epoch  35\n",
            "Training Loss 0.5941668823532908\n",
            "Training Accuracy:  79.57133058984911\n",
            "Epoch  36\n",
            "Training Loss 0.5822072388926983\n",
            "Training Accuracy:  79.88340192043896\n",
            "Epoch  37\n",
            "Training Loss 0.5695679519625072\n",
            "Training Accuracy:  80.71673525377228\n",
            "Epoch  38\n",
            "Training Loss 0.5588356692360208\n",
            "Training Accuracy:  81.0048010973937\n",
            "Epoch  39\n",
            "Training Loss 0.5477888499671836\n",
            "Training Accuracy:  81.32373113854595\n",
            "Epoch  40\n",
            "Training Loss 0.5383091469163657\n",
            "Training Accuracy:  81.86213991769547\n",
            "Epoch  41\n",
            "Training Loss 0.5277900304294318\n",
            "Training Accuracy:  82.18449931412894\n",
            "Epoch  42\n",
            "Training Loss 0.5164046380596201\n",
            "Training Accuracy:  82.81550068587106\n",
            "Epoch  43\n",
            "Training Loss 0.5057418874774152\n",
            "Training Accuracy:  83.19272976680384\n",
            "Epoch  44\n",
            "Training Loss 0.4977961286010616\n",
            "Training Accuracy:  83.6522633744856\n",
            "Epoch  45\n",
            "Training Loss 0.4894565424134905\n",
            "Training Accuracy:  83.93689986282578\n",
            "Epoch  46\n",
            "Training Loss 0.4817171922012444\n",
            "Training Accuracy:  84.31412894375858\n",
            "Epoch  47\n",
            "Training Loss 0.47346761166442225\n",
            "Training Accuracy:  84.69135802469135\n",
            "Epoch  48\n",
            "Training Loss 0.46348617374171736\n",
            "Training Accuracy:  85.13031550068587\n",
            "Epoch  49\n",
            "Training Loss 0.45704594530921117\n",
            "Training Accuracy:  85.44924554183814\n",
            "Epoch  50\n",
            "Training Loss 0.45055132217957927\n",
            "Training Accuracy:  85.58641975308642\n",
            "Epoch  51\n",
            "Training Loss 0.4408068477576844\n",
            "Training Accuracy:  86.02194787379973\n",
            "Epoch  52\n",
            "Training Loss 0.4356736717020276\n",
            "Training Accuracy:  86.25857338820302\n",
            "Epoch  53\n",
            "Training Loss 0.4298845190198604\n",
            "Training Accuracy:  86.30658436213992\n",
            "Epoch  54\n",
            "Training Loss 0.4210009594487263\n",
            "Training Accuracy:  86.81412894375858\n",
            "Epoch  55\n",
            "Training Loss 0.4169397406391242\n",
            "Training Accuracy:  87.2119341563786\n",
            "Epoch  56\n",
            "Training Loss 0.4087941266375921\n",
            "Training Accuracy:  87.56858710562415\n",
            "Epoch  57\n",
            "Training Loss 0.4043072889587076\n",
            "Training Accuracy:  87.5960219478738\n",
            "Epoch  58\n",
            "Training Loss 0.39708088352226606\n",
            "Training Accuracy:  87.8326474622771\n",
            "Epoch  59\n",
            "Training Loss 0.3927276776164023\n",
            "Training Accuracy:  87.97325102880659\n",
            "Epoch  60\n",
            "Training Loss 0.386164151658826\n",
            "Training Accuracy:  88.61454046639231\n",
            "Epoch  61\n",
            "Training Loss 0.3795017941001541\n",
            "Training Accuracy:  88.61454046639231\n",
            "Epoch  62\n",
            "Training Loss 0.37482852069195616\n",
            "Training Accuracy:  88.86145404663924\n",
            "Epoch  63\n",
            "Training Loss 0.36963467132426214\n",
            "Training Accuracy:  89.09465020576131\n",
            "Epoch  64\n",
            "Training Loss 0.36601893432280613\n",
            "Training Accuracy:  89.16666666666667\n",
            "Epoch  65\n",
            "Training Loss 0.35971524424589063\n",
            "Training Accuracy:  89.55075445816186\n",
            "Epoch  66\n",
            "Training Loss 0.35378868839373384\n",
            "Training Accuracy:  89.75308641975309\n",
            "Epoch  67\n",
            "Training Loss 0.34895341618212633\n",
            "Training Accuracy:  89.93484224965707\n",
            "Epoch  68\n",
            "Training Loss 0.34611493581911823\n",
            "Training Accuracy:  90.13374485596708\n",
            "Epoch  69\n",
            "Training Loss 0.3418461376928049\n",
            "Training Accuracy:  90.23319615912209\n"
          ],
          "name": "stdout"
        },
        {
          "output_type": "error",
          "ename": "RuntimeError",
          "evalue": "ignored",
          "traceback": [
            "\u001b[0;31m---------------------------------------------------------------------------\u001b[0m",
            "\u001b[0;31mRuntimeError\u001b[0m                              Traceback (most recent call last)",
            "\u001b[0;32m<ipython-input-5-f5ffd5924c76>\u001b[0m in \u001b[0;36m<module>\u001b[0;34m()\u001b[0m\n\u001b[1;32m     40\u001b[0m \u001b[0mneuralNetwork\u001b[0m\u001b[0;34m.\u001b[0m\u001b[0maddLayer\u001b[0m\u001b[0;34m(\u001b[0m\u001b[0mLinear\u001b[0m\u001b[0;34m.\u001b[0m\u001b[0mLinear\u001b[0m\u001b[0;34m(\u001b[0m\u001b[0;36m512\u001b[0m\u001b[0;34m,\u001b[0m\u001b[0;36m6\u001b[0m\u001b[0;34m)\u001b[0m\u001b[0;34m)\u001b[0m\u001b[0;34m\u001b[0m\u001b[0;34m\u001b[0m\u001b[0m\n\u001b[1;32m     41\u001b[0m \u001b[0mneuralNetwork\u001b[0m\u001b[0;34m.\u001b[0m\u001b[0mtrainModel\u001b[0m\u001b[0;34m(\u001b[0m\u001b[0mlr\u001b[0m\u001b[0;34m,\u001b[0m \u001b[0mbatchSize\u001b[0m\u001b[0;34m,\u001b[0m \u001b[0mepochs\u001b[0m\u001b[0;34m,\u001b[0m \u001b[0mtrainingData\u001b[0m\u001b[0;34m,\u001b[0m \u001b[0mtrainingLabels\u001b[0m\u001b[0;34m,\u001b[0m \u001b[0mal\u001b[0m\u001b[0;34m,\u001b[0m\u001b[0mreg\u001b[0m\u001b[0;34m)\u001b[0m\u001b[0;31m#,validationData,validationLabels)\u001b[0m\u001b[0;34m\u001b[0m\u001b[0;34m\u001b[0m\u001b[0m\n\u001b[0;32m---> 42\u001b[0;31m \u001b[0mpredictions\u001b[0m \u001b[0;34m=\u001b[0m \u001b[0mneuralNetwork\u001b[0m\u001b[0;34m.\u001b[0m\u001b[0mclassify\u001b[0m\u001b[0;34m(\u001b[0m\u001b[0mvalidationData\u001b[0m\u001b[0;34m)\u001b[0m\u001b[0;34m\u001b[0m\u001b[0;34m\u001b[0m\u001b[0m\n\u001b[0m\u001b[1;32m     43\u001b[0m \u001b[0mprint\u001b[0m\u001b[0;34m(\u001b[0m\u001b[0;34m\"Validation Accuracy: \"\u001b[0m\u001b[0;34m,\u001b[0m \u001b[0;34m(\u001b[0m\u001b[0mtorch\u001b[0m\u001b[0;34m.\u001b[0m\u001b[0msum\u001b[0m\u001b[0;34m(\u001b[0m\u001b[0mpredictions\u001b[0m \u001b[0;34m==\u001b[0m \u001b[0mvalidationLabels\u001b[0m\u001b[0;34m)\u001b[0m\u001b[0;34m.\u001b[0m\u001b[0mitem\u001b[0m\u001b[0;34m(\u001b[0m\u001b[0;34m)\u001b[0m\u001b[0;34m*\u001b[0m\u001b[0;36m100.0\u001b[0m\u001b[0;34m/\u001b[0m\u001b[0mvalidationLabels\u001b[0m\u001b[0;34m.\u001b[0m\u001b[0msize\u001b[0m\u001b[0;34m(\u001b[0m\u001b[0;34m)\u001b[0m\u001b[0;34m[\u001b[0m\u001b[0;36m0\u001b[0m\u001b[0;34m]\u001b[0m\u001b[0;34m)\u001b[0m\u001b[0;34m)\u001b[0m\u001b[0;34m\u001b[0m\u001b[0;34m\u001b[0m\u001b[0m\n\u001b[1;32m     44\u001b[0m \u001b[0mprint\u001b[0m\u001b[0;34m(\u001b[0m\u001b[0;34m\"time elapsed : \"\u001b[0m\u001b[0;34m,\u001b[0m\u001b[0mtime\u001b[0m\u001b[0;34m.\u001b[0m\u001b[0mtime\u001b[0m\u001b[0;34m(\u001b[0m\u001b[0;34m)\u001b[0m\u001b[0;34m-\u001b[0m\u001b[0mt\u001b[0m\u001b[0;34m)\u001b[0m\u001b[0;34m\u001b[0m\u001b[0;34m\u001b[0m\u001b[0m\n",
            "\u001b[0;32m/content/drive/My Drive/Colab Notebooks/Assignment3/src/Model.py\u001b[0m in \u001b[0;36mclassify\u001b[0;34m(self, data)\u001b[0m\n\u001b[1;32m     89\u001b[0m         \u001b[0;32mdef\u001b[0m \u001b[0mclassify\u001b[0m\u001b[0;34m(\u001b[0m\u001b[0mself\u001b[0m\u001b[0;34m,\u001b[0m \u001b[0mdata\u001b[0m\u001b[0;34m)\u001b[0m\u001b[0;34m:\u001b[0m\u001b[0;34m\u001b[0m\u001b[0;34m\u001b[0m\u001b[0m\n\u001b[1;32m     90\u001b[0m                 \u001b[0mguesses\u001b[0m \u001b[0;34m=\u001b[0m \u001b[0mself\u001b[0m\u001b[0;34m.\u001b[0m\u001b[0mforward\u001b[0m\u001b[0;34m(\u001b[0m\u001b[0mdata\u001b[0m\u001b[0;34m)\u001b[0m\u001b[0;34m\u001b[0m\u001b[0;34m\u001b[0m\u001b[0m\n\u001b[0;32m---> 91\u001b[0;31m                 \u001b[0mvalue\u001b[0m\u001b[0;34m,\u001b[0m \u001b[0mindices\u001b[0m \u001b[0;34m=\u001b[0m \u001b[0mtorch\u001b[0m\u001b[0;34m.\u001b[0m\u001b[0mmax\u001b[0m\u001b[0;34m(\u001b[0m\u001b[0mguesses\u001b[0m\u001b[0;34m,\u001b[0m\u001b[0mdim\u001b[0m\u001b[0;34m=\u001b[0m\u001b[0;36m1\u001b[0m\u001b[0;34m)\u001b[0m\u001b[0;34m\u001b[0m\u001b[0;34m\u001b[0m\u001b[0m\n\u001b[0m\u001b[1;32m     92\u001b[0m                 \u001b[0;32mreturn\u001b[0m \u001b[0mindices\u001b[0m\u001b[0;34m\u001b[0m\u001b[0;34m\u001b[0m\u001b[0m\n\u001b[1;32m     93\u001b[0m \u001b[0;34m\u001b[0m\u001b[0m\n",
            "\u001b[0;31mRuntimeError\u001b[0m: cannot perform reduction function max on tensor with no elements because the operation does not have an identity"
          ]
        }
      ]
    },
    {
      "metadata": {
        "id": "ZH6gYeDVyb_u",
        "colab_type": "code",
        "colab": {}
      },
      "cell_type": "code",
      "source": [
        "\n",
        "import torch\n",
        "import torchfile\n",
        "\n",
        "Data = torch.tensor(torchfile.load('TestData/test.bin'), dtype=dtype, device=device)\n",
        "TestData = Data/256.0 \n",
        "\n",
        "\n",
        "sz = TestData.size()\n",
        "TestData = TestData.reshape(sz[0],int(sz[1]*sz[2]))\n",
        "TestData-=trainingMean\n",
        "predictions = nn1.classify(TestData)\n",
        "\n",
        "f= open(\"testPredictionRandom.txt\",\"w+\")\n",
        "f.write(\"id,label\\n\")\n",
        "for i in range(sz[0]):\n",
        "  f.write(str(i)+\",\"+str(predictions[i].item())+\"\\n\")\n",
        "f.close()"
      ],
      "execution_count": 0,
      "outputs": []
    },
    {
      "metadata": {
        "id": "DfgwUopajejo",
        "colab_type": "code",
        "outputId": "1c325e23-3fcc-419b-ad8d-7657ab51df13",
        "colab": {
          "base_uri": "https://localhost:8080/",
          "height": 362
        }
      },
      "cell_type": "code",
      "source": [
        "\n",
        "predictions = neuralNetwork.classify(validationData)\n",
        "print(torch.sum(predictions == validationLabels).item())\n",
        "\n",
        "\n",
        "print(0,torch.sum(trainingLabels == 0).item())\n",
        "print(1,torch.sum(trainingLabels == 1).item())\n",
        "print(2,torch.sum(trainingLabels == 2).item())\n",
        "print(3,torch.sum(trainingLabels == 3).item())\n",
        "print(4,torch.sum(trainingLabels == 4).item())\n",
        "print(5,torch.sum(trainingLabels == 5).item())\n",
        "\n",
        "\n",
        "print(\"Validation Accuracy: \", (torch.sum(predictions == validationLabels).item()*100.0/validationLabels.size()[0]))"
      ],
      "execution_count": 0,
      "outputs": [
        {
          "output_type": "error",
          "ename": "RuntimeError",
          "evalue": "ignored",
          "traceback": [
            "\u001b[0;31m---------------------------------------------------------------------------\u001b[0m",
            "\u001b[0;31mRuntimeError\u001b[0m                              Traceback (most recent call last)",
            "\u001b[0;32m<ipython-input-6-76bc7fb3176c>\u001b[0m in \u001b[0;36m<module>\u001b[0;34m()\u001b[0m\n\u001b[1;32m      1\u001b[0m \u001b[0;34m\u001b[0m\u001b[0m\n\u001b[0;32m----> 2\u001b[0;31m \u001b[0mpredictions\u001b[0m \u001b[0;34m=\u001b[0m \u001b[0mneuralNetwork\u001b[0m\u001b[0;34m.\u001b[0m\u001b[0mclassify\u001b[0m\u001b[0;34m(\u001b[0m\u001b[0mvalidationData\u001b[0m\u001b[0;34m)\u001b[0m\u001b[0;34m\u001b[0m\u001b[0;34m\u001b[0m\u001b[0m\n\u001b[0m\u001b[1;32m      3\u001b[0m \u001b[0mprint\u001b[0m\u001b[0;34m(\u001b[0m\u001b[0mtorch\u001b[0m\u001b[0;34m.\u001b[0m\u001b[0msum\u001b[0m\u001b[0;34m(\u001b[0m\u001b[0mpredictions\u001b[0m \u001b[0;34m==\u001b[0m \u001b[0mvalidationLabels\u001b[0m\u001b[0;34m)\u001b[0m\u001b[0;34m.\u001b[0m\u001b[0mitem\u001b[0m\u001b[0;34m(\u001b[0m\u001b[0;34m)\u001b[0m\u001b[0;34m)\u001b[0m\u001b[0;34m\u001b[0m\u001b[0;34m\u001b[0m\u001b[0m\n\u001b[1;32m      4\u001b[0m \u001b[0;34m\u001b[0m\u001b[0m\n\u001b[1;32m      5\u001b[0m \u001b[0;34m\u001b[0m\u001b[0m\n",
            "\u001b[0;32m/content/drive/My Drive/Colab Notebooks/Assignment3/src/Model.py\u001b[0m in \u001b[0;36mclassify\u001b[0;34m(self, data)\u001b[0m\n\u001b[1;32m     89\u001b[0m         \u001b[0;32mdef\u001b[0m \u001b[0mclassify\u001b[0m\u001b[0;34m(\u001b[0m\u001b[0mself\u001b[0m\u001b[0;34m,\u001b[0m \u001b[0mdata\u001b[0m\u001b[0;34m)\u001b[0m\u001b[0;34m:\u001b[0m\u001b[0;34m\u001b[0m\u001b[0;34m\u001b[0m\u001b[0m\n\u001b[1;32m     90\u001b[0m                 \u001b[0mguesses\u001b[0m \u001b[0;34m=\u001b[0m \u001b[0mself\u001b[0m\u001b[0;34m.\u001b[0m\u001b[0mforward\u001b[0m\u001b[0;34m(\u001b[0m\u001b[0mdata\u001b[0m\u001b[0;34m)\u001b[0m\u001b[0;34m\u001b[0m\u001b[0;34m\u001b[0m\u001b[0m\n\u001b[0;32m---> 91\u001b[0;31m                 \u001b[0mvalue\u001b[0m\u001b[0;34m,\u001b[0m \u001b[0mindices\u001b[0m \u001b[0;34m=\u001b[0m \u001b[0mtorch\u001b[0m\u001b[0;34m.\u001b[0m\u001b[0mmax\u001b[0m\u001b[0;34m(\u001b[0m\u001b[0mguesses\u001b[0m\u001b[0;34m,\u001b[0m\u001b[0mdim\u001b[0m\u001b[0;34m=\u001b[0m\u001b[0;36m1\u001b[0m\u001b[0;34m)\u001b[0m\u001b[0;34m\u001b[0m\u001b[0;34m\u001b[0m\u001b[0m\n\u001b[0m\u001b[1;32m     92\u001b[0m                 \u001b[0;32mreturn\u001b[0m \u001b[0mindices\u001b[0m\u001b[0;34m\u001b[0m\u001b[0;34m\u001b[0m\u001b[0m\n\u001b[1;32m     93\u001b[0m \u001b[0;34m\u001b[0m\u001b[0m\n",
            "\u001b[0;31mRuntimeError\u001b[0m: cannot perform reduction function max on tensor with no elements because the operation does not have an identity"
          ]
        }
      ]
    },
    {
      "metadata": {
        "id": "5httOo8ltfrk",
        "colab_type": "code",
        "outputId": "4ee726a1-6c92-403a-adc3-25e6647daf2f",
        "colab": {
          "base_uri": "https://localhost:8080/",
          "height": 204
        }
      },
      "cell_type": "code",
      "source": [
        "directory = \"./\"+\"ModelRandom\"+\"/\"\n",
        "if not os.path.exists(directory):\n",
        "    os.makedirs(directory)\n",
        "neuralNetwork.saveModel(directory+\"bestModal.txt\",directory+\"ModalWeights.bin\",directory+\"ModelBais.bin\")"
      ],
      "execution_count": 0,
      "outputs": [
        {
          "output_type": "error",
          "ename": "NameError",
          "evalue": "ignored",
          "traceback": [
            "\u001b[0;31m---------------------------------------------------------------------------\u001b[0m",
            "\u001b[0;31mNameError\u001b[0m                                 Traceback (most recent call last)",
            "\u001b[0;32m<ipython-input-3-95dfcaf4f2e3>\u001b[0m in \u001b[0;36m<module>\u001b[0;34m()\u001b[0m\n\u001b[1;32m      2\u001b[0m \u001b[0;32mif\u001b[0m \u001b[0;32mnot\u001b[0m \u001b[0mos\u001b[0m\u001b[0;34m.\u001b[0m\u001b[0mpath\u001b[0m\u001b[0;34m.\u001b[0m\u001b[0mexists\u001b[0m\u001b[0;34m(\u001b[0m\u001b[0mdirectory\u001b[0m\u001b[0;34m)\u001b[0m\u001b[0;34m:\u001b[0m\u001b[0;34m\u001b[0m\u001b[0;34m\u001b[0m\u001b[0m\n\u001b[1;32m      3\u001b[0m     \u001b[0mos\u001b[0m\u001b[0;34m.\u001b[0m\u001b[0mmakedirs\u001b[0m\u001b[0;34m(\u001b[0m\u001b[0mdirectory\u001b[0m\u001b[0;34m)\u001b[0m\u001b[0;34m\u001b[0m\u001b[0;34m\u001b[0m\u001b[0m\n\u001b[0;32m----> 4\u001b[0;31m \u001b[0mneuralNetwork\u001b[0m\u001b[0;34m.\u001b[0m\u001b[0msaveModel\u001b[0m\u001b[0;34m(\u001b[0m\u001b[0mdirectory\u001b[0m\u001b[0;34m+\u001b[0m\u001b[0;34m\"bestModal.txt\"\u001b[0m\u001b[0;34m,\u001b[0m\u001b[0mdirectory\u001b[0m\u001b[0;34m+\u001b[0m\u001b[0;34m\"ModalWeights.bin\"\u001b[0m\u001b[0;34m,\u001b[0m\u001b[0mdirectory\u001b[0m\u001b[0;34m+\u001b[0m\u001b[0;34m\"ModelBais.bin\"\u001b[0m\u001b[0;34m)\u001b[0m\u001b[0;34m\u001b[0m\u001b[0;34m\u001b[0m\u001b[0m\n\u001b[0m",
            "\u001b[0;31mNameError\u001b[0m: name 'neuralNetwork' is not defined"
          ]
        }
      ]
    },
    {
      "metadata": {
        "id": "mRnE_4vcpedS",
        "colab_type": "code",
        "outputId": "358f6efa-f194-4f66-9a50-dfb547fcdd5e",
        "colab": {
          "base_uri": "https://localhost:8080/",
          "height": 107
        }
      },
      "cell_type": "code",
      "source": [
        "import sys\n",
        "import os\n",
        "sys.path.insert(0, './src')\n",
        "import Linear\n",
        "import time\n",
        "import Model\n",
        "import BatchNorm\n",
        "import LeakyRelu\n",
        "import ReLU\n",
        "import Dropout\n",
        "nn1 = Model.Model()\n",
        "directory = \"./\"+\"ModelRandom\"+\"/\"\n",
        "nn1.loadModel(directory+\"bestModal.txt\")\n",
        "# neuralNetwork.trainModel(lr, batchSize, epochs, trainingData, trainingLabels, al,reg,validationData,validationLabels)"
      ],
      "execution_count": 0,
      "outputs": [
        {
          "output_type": "stream",
          "text": [
            "./src/Model.py:158: UserWarning: To copy construct from a tensor, it is recommended to use sourceTensor.clone().detach() or sourceTensor.clone().detach().requires_grad_(True), rather than torch.tensor(sourceTensor).\n",
            "  self.Layers[-1].W = torch.tensor(self.Layers[-1].W,dtype=dtype,device=device)\n",
            "./src/Model.py:160: UserWarning: To copy construct from a tensor, it is recommended to use sourceTensor.clone().detach() or sourceTensor.clone().detach().requires_grad_(True), rather than torch.tensor(sourceTensor).\n",
            "  self.Layers[-1].B = torch.tensor(self.Layers[-1].B,dtype=dtype,device=device)\n"
          ],
          "name": "stderr"
        }
      ]
    },
    {
      "metadata": {
        "id": "P1_pPtperw8-",
        "colab_type": "code",
        "colab": {}
      },
      "cell_type": "code",
      "source": [
        "batchSize = 30\n",
        "epochs = 50\n",
        "alpha = [0.01,0.1,0.3]\n",
        "regularizer = [1e-5,1e-4]\n",
        "\n",
        "# for lr in learningRate:\n",
        "#   for reg in regularizer:\n",
        "#     for al in alpha:\n",
        "lr = 0.009\n",
        "reg = 0.000001\n",
        "al = 0.7\n",
        "leak = 0.01\n",
        "\n",
        "nn1.trainModel(lr, batchSize, epochs, trainingData, trainingLabels, al,reg,validationData,validationLabels)\n",
        "# directory = \"./\"+\"Model56\"+\"/\"\n",
        "# if not os.path.exists(directory):\n",
        "#     os.makedirs(directory)\n",
        "# nn1.saveModel(directory+\"bestModal.txt\",directory+\"ModalWeights.bin\",directory+\"ModelBais.bin\")"
      ],
      "execution_count": 0,
      "outputs": []
    },
    {
      "metadata": {
        "id": "IeVX6koqEEsZ",
        "colab_type": "code",
        "colab": {}
      },
      "cell_type": "code",
      "source": [
        "directory = \"./\"+\"Model56\"+\"/\"\n",
        "if not os.path.exists(directory):\n",
        "    os.makedirs(directory)\n",
        "nn1.saveModel(directory+\"bestModal.txt\",directory+\"ModalWeights.bin\",directory+\"ModelBais.bin\")"
      ],
      "execution_count": 0,
      "outputs": []
    },
    {
      "metadata": {
        "id": "mfV8em3GERW0",
        "colab_type": "code",
        "outputId": "ce05d080-57cb-4b08-9186-f82e5bffc5e3",
        "colab": {
          "base_uri": "https://localhost:8080/",
          "height": 34
        }
      },
      "cell_type": "code",
      "source": [
        "predictions = nn1.classify(validationData)\n",
        "print(\"Validation Accuracy: \", (torch.sum(predictions == validationLabels).item()*100.0/validationLabels.size()[0]))"
      ],
      "execution_count": 0,
      "outputs": [
        {
          "output_type": "stream",
          "text": [
            "Validation Accuracy:  57.830361225422955\n"
          ],
          "name": "stdout"
        }
      ]
    },
    {
      "metadata": {
        "id": "hbjYFWL0o6ZJ",
        "colab_type": "code",
        "colab": {}
      },
      "cell_type": "code",
      "source": [
        "t = torch.load(\"ModelRandom/\"+\"ModalWeights.bin\")"
      ],
      "execution_count": 0,
      "outputs": []
    },
    {
      "metadata": {
        "id": "IyFspnQ4pJcI",
        "colab_type": "code",
        "outputId": "e5a5d334-8f1b-431d-dbd1-523e86308685",
        "colab": {
          "base_uri": "https://localhost:8080/",
          "height": 72
        }
      },
      "cell_type": "code",
      "source": [
        "l = []\n",
        "for a in t:\n",
        "  l.append(torch.tensor(a,dtype=torch.float).clone().detach().requires_grad_(True))\n",
        "torch.save(l,\"ModelRandom/ModalWeights1.bin\")"
      ],
      "execution_count": 0,
      "outputs": [
        {
          "output_type": "stream",
          "text": [
            "/usr/local/lib/python3.6/dist-packages/ipykernel_launcher.py:3: UserWarning: To copy construct from a tensor, it is recommended to use sourceTensor.clone().detach() or sourceTensor.clone().detach().requires_grad_(True), rather than torch.tensor(sourceTensor).\n",
            "  This is separate from the ipykernel package so we can avoid doing imports until\n"
          ],
          "name": "stderr"
        }
      ]
    },
    {
      "metadata": {
        "id": "e_g2P2_NyE3u",
        "colab_type": "code",
        "colab": {}
      },
      "cell_type": "code",
      "source": [
        "torch.save(trainingMean,\"trainingMean.bin\")"
      ],
      "execution_count": 0,
      "outputs": []
    }
  ]
}